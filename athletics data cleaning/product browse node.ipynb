{
 "cells": [
  {
   "cell_type": "code",
   "execution_count": 1,
   "id": "a3bd61c9",
   "metadata": {},
   "outputs": [],
   "source": [
    "import numpy as np\n",
    "import pandas as pd\n",
    "import matplotlib.pyplot as plt\n",
    "import seaborn as sns\n",
    "import math\n",
    "import csv\n",
    "import re"
   ]
  },
  {
   "cell_type": "code",
   "execution_count": 2,
   "id": "f885ea1e",
   "metadata": {},
   "outputs": [],
   "source": [
    "df=pd.read_csv('train.csv',escapechar = \"\\\\\", quoting = csv.QUOTE_NONE)"
   ]
  },
  {
   "cell_type": "code",
   "execution_count": 3,
   "id": "0fd44751",
   "metadata": {},
   "outputs": [
    {
     "data": {
      "text/html": [
       "<div>\n",
       "<style scoped>\n",
       "    .dataframe tbody tr th:only-of-type {\n",
       "        vertical-align: middle;\n",
       "    }\n",
       "\n",
       "    .dataframe tbody tr th {\n",
       "        vertical-align: top;\n",
       "    }\n",
       "\n",
       "    .dataframe thead th {\n",
       "        text-align: right;\n",
       "    }\n",
       "</style>\n",
       "<table border=\"1\" class=\"dataframe\">\n",
       "  <thead>\n",
       "    <tr style=\"text-align: right;\">\n",
       "      <th></th>\n",
       "      <th>TITLE</th>\n",
       "      <th>DESCRIPTION</th>\n",
       "      <th>BULLET_POINTS</th>\n",
       "      <th>BRAND</th>\n",
       "      <th>BROWSE_NODE_ID</th>\n",
       "    </tr>\n",
       "  </thead>\n",
       "  <tbody>\n",
       "    <tr>\n",
       "      <th>0</th>\n",
       "      <td>Pete The Cat Bedtime Blues Doll, 14.5 Inch</td>\n",
       "      <td>Pete the Cat is the coolest, most popular cat ...</td>\n",
       "      <td>[Pete the Cat Bedtime Blues plush doll,Based o...</td>\n",
       "      <td>MerryMakers</td>\n",
       "      <td>0</td>\n",
       "    </tr>\n",
       "    <tr>\n",
       "      <th>1</th>\n",
       "      <td>The New Yorker NYHM014 Refrigerator Magnet, 2 ...</td>\n",
       "      <td>The New Yorker Handsome Cello Wrapped Hard Mag...</td>\n",
       "      <td>[Cat In A Tea Cup by New Yorker cover artist G...</td>\n",
       "      <td>The New Yorker</td>\n",
       "      <td>1</td>\n",
       "    </tr>\n",
       "    <tr>\n",
       "      <th>2</th>\n",
       "      <td>The Ultimate Self-Sufficiency Handbook: A Comp...</td>\n",
       "      <td>NaN</td>\n",
       "      <td>Skyhorse Publishing</td>\n",
       "      <td>imusti</td>\n",
       "      <td>2</td>\n",
       "    </tr>\n",
       "    <tr>\n",
       "      <th>3</th>\n",
       "      <td>Amway Nutrilite Kids Chewable Iron Tablets (100)</td>\n",
       "      <td>NaN</td>\n",
       "      <td>[Nutrilite Kids,Chewable Iron Tablets,Quantity...</td>\n",
       "      <td>Amway</td>\n",
       "      <td>3</td>\n",
       "    </tr>\n",
       "    <tr>\n",
       "      <th>4</th>\n",
       "      <td>Teacher Planner Company A4 6 Lesson Academic T...</td>\n",
       "      <td>NaN</td>\n",
       "      <td>NaN</td>\n",
       "      <td>NaN</td>\n",
       "      <td>4</td>\n",
       "    </tr>\n",
       "  </tbody>\n",
       "</table>\n",
       "</div>"
      ],
      "text/plain": [
       "                                               TITLE  \\\n",
       "0         Pete The Cat Bedtime Blues Doll, 14.5 Inch   \n",
       "1  The New Yorker NYHM014 Refrigerator Magnet, 2 ...   \n",
       "2  The Ultimate Self-Sufficiency Handbook: A Comp...   \n",
       "3   Amway Nutrilite Kids Chewable Iron Tablets (100)   \n",
       "4  Teacher Planner Company A4 6 Lesson Academic T...   \n",
       "\n",
       "                                         DESCRIPTION  \\\n",
       "0  Pete the Cat is the coolest, most popular cat ...   \n",
       "1  The New Yorker Handsome Cello Wrapped Hard Mag...   \n",
       "2                                                NaN   \n",
       "3                                                NaN   \n",
       "4                                                NaN   \n",
       "\n",
       "                                       BULLET_POINTS           BRAND  \\\n",
       "0  [Pete the Cat Bedtime Blues plush doll,Based o...     MerryMakers   \n",
       "1  [Cat In A Tea Cup by New Yorker cover artist G...  The New Yorker   \n",
       "2                                Skyhorse Publishing          imusti   \n",
       "3  [Nutrilite Kids,Chewable Iron Tablets,Quantity...           Amway   \n",
       "4                                                NaN             NaN   \n",
       "\n",
       "   BROWSE_NODE_ID  \n",
       "0               0  \n",
       "1               1  \n",
       "2               2  \n",
       "3               3  \n",
       "4               4  "
      ]
     },
     "execution_count": 3,
     "metadata": {},
     "output_type": "execute_result"
    }
   ],
   "source": [
    "df.head()"
   ]
  },
  {
   "cell_type": "code",
   "execution_count": 4,
   "id": "0251db16",
   "metadata": {},
   "outputs": [
    {
     "data": {
      "text/html": [
       "<div>\n",
       "<style scoped>\n",
       "    .dataframe tbody tr th:only-of-type {\n",
       "        vertical-align: middle;\n",
       "    }\n",
       "\n",
       "    .dataframe tbody tr th {\n",
       "        vertical-align: top;\n",
       "    }\n",
       "\n",
       "    .dataframe thead th {\n",
       "        text-align: right;\n",
       "    }\n",
       "</style>\n",
       "<table border=\"1\" class=\"dataframe\">\n",
       "  <thead>\n",
       "    <tr style=\"text-align: right;\">\n",
       "      <th></th>\n",
       "      <th>TITLE</th>\n",
       "      <th>DESCRIPTION</th>\n",
       "      <th>BULLET_POINTS</th>\n",
       "      <th>BRAND</th>\n",
       "      <th>BROWSE_NODE_ID</th>\n",
       "    </tr>\n",
       "  </thead>\n",
       "  <tbody>\n",
       "    <tr>\n",
       "      <th>2903019</th>\n",
       "      <td>Premium Aviator Sunglasses - HD Polarized (Bri...</td>\n",
       "      <td>These premium Aviator Sunglasses with 5 color ...</td>\n",
       "      <td>[Frame size: Lens height - 56mm, Lens width - ...</td>\n",
       "      <td>Generic</td>\n",
       "      <td>1040</td>\n",
       "    </tr>\n",
       "    <tr>\n",
       "      <th>2903020</th>\n",
       "      <td>Social Distance Stickers - Set of 5 Sticker Sl...</td>\n",
       "      <td>set of 5 prints social distancing sticker self...</td>\n",
       "      <td>[covid19 safety sticker - set of 5 to maintain...</td>\n",
       "      <td>Generic</td>\n",
       "      <td>15199</td>\n",
       "    </tr>\n",
       "    <tr>\n",
       "      <th>2903021</th>\n",
       "      <td>Torr-to Face Shield PACK OF 5 with Adjustable ...</td>\n",
       "      <td>* COMPLETE FACE PROTECTION: Torr-to Face Shiel...</td>\n",
       "      <td>[350 MICRONS PACK OF 5 PCS,COMPLETE FACE PROTE...</td>\n",
       "      <td>TORR-TO</td>\n",
       "      <td>1044933</td>\n",
       "    </tr>\n",
       "    <tr>\n",
       "      <th>2903022</th>\n",
       "      <td>Type-C to 3.5 MM for Oppo R17 Pro Type-C to 3....</td>\n",
       "      <td>Still want to use your favorite earphones/head...</td>\n",
       "      <td>[Indian Connectors: Made for Indian sockets, t...</td>\n",
       "      <td>SHOPBELL</td>\n",
       "      <td>14790</td>\n",
       "    </tr>\n",
       "    <tr>\n",
       "      <th>2903023</th>\n",
       "      <td>KNG Orange Polo Tshirt (38)</td>\n",
       "      <td>Performance inspired by comfort. The polo shir...</td>\n",
       "      <td>NaN</td>\n",
       "      <td>KNG</td>\n",
       "      <td>1213</td>\n",
       "    </tr>\n",
       "  </tbody>\n",
       "</table>\n",
       "</div>"
      ],
      "text/plain": [
       "                                                     TITLE  \\\n",
       "2903019  Premium Aviator Sunglasses - HD Polarized (Bri...   \n",
       "2903020  Social Distance Stickers - Set of 5 Sticker Sl...   \n",
       "2903021  Torr-to Face Shield PACK OF 5 with Adjustable ...   \n",
       "2903022  Type-C to 3.5 MM for Oppo R17 Pro Type-C to 3....   \n",
       "2903023                        KNG Orange Polo Tshirt (38)   \n",
       "\n",
       "                                               DESCRIPTION  \\\n",
       "2903019  These premium Aviator Sunglasses with 5 color ...   \n",
       "2903020  set of 5 prints social distancing sticker self...   \n",
       "2903021  * COMPLETE FACE PROTECTION: Torr-to Face Shiel...   \n",
       "2903022  Still want to use your favorite earphones/head...   \n",
       "2903023  Performance inspired by comfort. The polo shir...   \n",
       "\n",
       "                                             BULLET_POINTS     BRAND  \\\n",
       "2903019  [Frame size: Lens height - 56mm, Lens width - ...   Generic   \n",
       "2903020  [covid19 safety sticker - set of 5 to maintain...   Generic   \n",
       "2903021  [350 MICRONS PACK OF 5 PCS,COMPLETE FACE PROTE...   TORR-TO   \n",
       "2903022  [Indian Connectors: Made for Indian sockets, t...  SHOPBELL   \n",
       "2903023                                                NaN       KNG   \n",
       "\n",
       "         BROWSE_NODE_ID  \n",
       "2903019            1040  \n",
       "2903020           15199  \n",
       "2903021         1044933  \n",
       "2903022           14790  \n",
       "2903023            1213  "
      ]
     },
     "execution_count": 4,
     "metadata": {},
     "output_type": "execute_result"
    }
   ],
   "source": [
    "df.tail()"
   ]
  },
  {
   "cell_type": "code",
   "execution_count": 5,
   "id": "d8c073c3",
   "metadata": {},
   "outputs": [
    {
     "data": {
      "text/plain": [
       "0          [Pete the Cat Bedtime Blues plush doll,Based o...\n",
       "1          [Cat In A Tea Cup by New Yorker cover artist G...\n",
       "2                                        Skyhorse Publishing\n",
       "3          [Nutrilite Kids,Chewable Iron Tablets,Quantity...\n",
       "4                                                        NaN\n",
       "                                 ...                        \n",
       "2903019    [Frame size: Lens height - 56mm, Lens width - ...\n",
       "2903020    [covid19 safety sticker - set of 5 to maintain...\n",
       "2903021    [350 MICRONS PACK OF 5 PCS,COMPLETE FACE PROTE...\n",
       "2903022    [Indian Connectors: Made for Indian sockets, t...\n",
       "2903023                                                  NaN\n",
       "Name: BULLET_POINTS, Length: 2903024, dtype: object"
      ]
     },
     "execution_count": 5,
     "metadata": {},
     "output_type": "execute_result"
    }
   ],
   "source": [
    "df['BULLET_POINTS']"
   ]
  },
  {
   "cell_type": "code",
   "execution_count": 6,
   "id": "32502998",
   "metadata": {},
   "outputs": [
    {
     "data": {
      "text/plain": [
       "0          Pete the Cat is the coolest, most popular cat ...\n",
       "1          The New Yorker Handsome Cello Wrapped Hard Mag...\n",
       "2                                                        NaN\n",
       "3                                                        NaN\n",
       "4                                                        NaN\n",
       "                                 ...                        \n",
       "2903019    These premium Aviator Sunglasses with 5 color ...\n",
       "2903020    set of 5 prints social distancing sticker self...\n",
       "2903021    * COMPLETE FACE PROTECTION: Torr-to Face Shiel...\n",
       "2903022    Still want to use your favorite earphones/head...\n",
       "2903023    Performance inspired by comfort. The polo shir...\n",
       "Name: DESCRIPTION, Length: 2903024, dtype: object"
      ]
     },
     "execution_count": 6,
     "metadata": {},
     "output_type": "execute_result"
    }
   ],
   "source": [
    "df['DESCRIPTION']"
   ]
  },
  {
   "cell_type": "code",
   "execution_count": 7,
   "id": "cb240076",
   "metadata": {},
   "outputs": [
    {
     "name": "stdout",
     "output_type": "stream",
     "text": [
      "<class 'pandas.core.frame.DataFrame'>\n",
      "RangeIndex: 2903024 entries, 0 to 2903023\n",
      "Data columns (total 5 columns):\n",
      " #   Column          Dtype \n",
      "---  ------          ----- \n",
      " 0   TITLE           object\n",
      " 1   DESCRIPTION     object\n",
      " 2   BULLET_POINTS   object\n",
      " 3   BRAND           object\n",
      " 4   BROWSE_NODE_ID  int64 \n",
      "dtypes: int64(1), object(4)\n",
      "memory usage: 110.7+ MB\n"
     ]
    }
   ],
   "source": [
    "df.info()"
   ]
  },
  {
   "cell_type": "code",
   "execution_count": 8,
   "id": "1955a757",
   "metadata": {},
   "outputs": [
    {
     "data": {
      "text/html": [
       "<div>\n",
       "<style scoped>\n",
       "    .dataframe tbody tr th:only-of-type {\n",
       "        vertical-align: middle;\n",
       "    }\n",
       "\n",
       "    .dataframe tbody tr th {\n",
       "        vertical-align: top;\n",
       "    }\n",
       "\n",
       "    .dataframe thead th {\n",
       "        text-align: right;\n",
       "    }\n",
       "</style>\n",
       "<table border=\"1\" class=\"dataframe\">\n",
       "  <thead>\n",
       "    <tr style=\"text-align: right;\">\n",
       "      <th></th>\n",
       "      <th>BROWSE_NODE_ID</th>\n",
       "    </tr>\n",
       "  </thead>\n",
       "  <tbody>\n",
       "    <tr>\n",
       "      <th>count</th>\n",
       "      <td>2.903024e+06</td>\n",
       "    </tr>\n",
       "    <tr>\n",
       "      <th>mean</th>\n",
       "      <td>9.211321e+03</td>\n",
       "    </tr>\n",
       "    <tr>\n",
       "      <th>std</th>\n",
       "      <td>5.606280e+04</td>\n",
       "    </tr>\n",
       "    <tr>\n",
       "      <th>min</th>\n",
       "      <td>0.000000e+00</td>\n",
       "    </tr>\n",
       "    <tr>\n",
       "      <th>25%</th>\n",
       "      <td>7.000000e+02</td>\n",
       "    </tr>\n",
       "    <tr>\n",
       "      <th>50%</th>\n",
       "      <td>1.072000e+03</td>\n",
       "    </tr>\n",
       "    <tr>\n",
       "      <th>75%</th>\n",
       "      <td>2.546000e+03</td>\n",
       "    </tr>\n",
       "    <tr>\n",
       "      <th>max</th>\n",
       "      <td>2.893574e+06</td>\n",
       "    </tr>\n",
       "  </tbody>\n",
       "</table>\n",
       "</div>"
      ],
      "text/plain": [
       "       BROWSE_NODE_ID\n",
       "count    2.903024e+06\n",
       "mean     9.211321e+03\n",
       "std      5.606280e+04\n",
       "min      0.000000e+00\n",
       "25%      7.000000e+02\n",
       "50%      1.072000e+03\n",
       "75%      2.546000e+03\n",
       "max      2.893574e+06"
      ]
     },
     "execution_count": 8,
     "metadata": {},
     "output_type": "execute_result"
    }
   ],
   "source": [
    "df.describe()"
   ]
  },
  {
   "cell_type": "code",
   "execution_count": 9,
   "id": "f77224d8",
   "metadata": {},
   "outputs": [
    {
     "data": {
      "text/plain": [
       "(2903024, 5)"
      ]
     },
     "execution_count": 9,
     "metadata": {},
     "output_type": "execute_result"
    }
   ],
   "source": [
    "df.shape"
   ]
  },
  {
   "cell_type": "code",
   "execution_count": 10,
   "id": "0ad665dc",
   "metadata": {},
   "outputs": [
    {
     "data": {
      "text/plain": [
       "14515120"
      ]
     },
     "execution_count": 10,
     "metadata": {},
     "output_type": "execute_result"
    }
   ],
   "source": [
    "df.size"
   ]
  },
  {
   "cell_type": "code",
   "execution_count": 11,
   "id": "0e116dcd",
   "metadata": {},
   "outputs": [],
   "source": [
    "df=df[df[\"BROWSE_NODE_ID\"]<3e4].reset_index(drop = True)"
   ]
  },
  {
   "cell_type": "code",
   "execution_count": 12,
   "id": "0915c6b1",
   "metadata": {},
   "outputs": [
    {
     "data": {
      "text/html": [
       "<div>\n",
       "<style scoped>\n",
       "    .dataframe tbody tr th:only-of-type {\n",
       "        vertical-align: middle;\n",
       "    }\n",
       "\n",
       "    .dataframe tbody tr th {\n",
       "        vertical-align: top;\n",
       "    }\n",
       "\n",
       "    .dataframe thead th {\n",
       "        text-align: right;\n",
       "    }\n",
       "</style>\n",
       "<table border=\"1\" class=\"dataframe\">\n",
       "  <thead>\n",
       "    <tr style=\"text-align: right;\">\n",
       "      <th></th>\n",
       "      <th>BROWSE_NODE_ID</th>\n",
       "    </tr>\n",
       "  </thead>\n",
       "  <tbody>\n",
       "    <tr>\n",
       "      <th>count</th>\n",
       "      <td>2.762356e+06</td>\n",
       "    </tr>\n",
       "    <tr>\n",
       "      <th>mean</th>\n",
       "      <td>2.573221e+03</td>\n",
       "    </tr>\n",
       "    <tr>\n",
       "      <th>std</th>\n",
       "      <td>4.398589e+03</td>\n",
       "    </tr>\n",
       "    <tr>\n",
       "      <th>min</th>\n",
       "      <td>0.000000e+00</td>\n",
       "    </tr>\n",
       "    <tr>\n",
       "      <th>25%</th>\n",
       "      <td>6.300000e+02</td>\n",
       "    </tr>\n",
       "    <tr>\n",
       "      <th>50%</th>\n",
       "      <td>1.049000e+03</td>\n",
       "    </tr>\n",
       "    <tr>\n",
       "      <th>75%</th>\n",
       "      <td>2.040000e+03</td>\n",
       "    </tr>\n",
       "    <tr>\n",
       "      <th>max</th>\n",
       "      <td>2.998600e+04</td>\n",
       "    </tr>\n",
       "  </tbody>\n",
       "</table>\n",
       "</div>"
      ],
      "text/plain": [
       "       BROWSE_NODE_ID\n",
       "count    2.762356e+06\n",
       "mean     2.573221e+03\n",
       "std      4.398589e+03\n",
       "min      0.000000e+00\n",
       "25%      6.300000e+02\n",
       "50%      1.049000e+03\n",
       "75%      2.040000e+03\n",
       "max      2.998600e+04"
      ]
     },
     "execution_count": 12,
     "metadata": {},
     "output_type": "execute_result"
    }
   ],
   "source": [
    "df.describe()"
   ]
  },
  {
   "cell_type": "code",
   "execution_count": 13,
   "id": "06c65b66",
   "metadata": {},
   "outputs": [
    {
     "data": {
      "text/plain": [
       "TITLE                 70\n",
       "DESCRIPTION       691287\n",
       "BULLET_POINTS     154416\n",
       "BRAND              52839\n",
       "BROWSE_NODE_ID         0\n",
       "dtype: int64"
      ]
     },
     "execution_count": 13,
     "metadata": {},
     "output_type": "execute_result"
    }
   ],
   "source": [
    "df.isnull().sum()"
   ]
  },
  {
   "cell_type": "code",
   "execution_count": 14,
   "id": "dc88a597",
   "metadata": {},
   "outputs": [],
   "source": [
    "df['DESCRIPTION'] = df['DESCRIPTION'].fillna(\"no description\" , axis = 0)\n",
    "df['BULLET_POINTS']=df['BULLET_POINTS'].fillna('no bullet point',axis = 0)\n",
    "df['BRAND']=df['BRAND'].fillna(\"unknown\",axis = 0)"
   ]
  },
  {
   "cell_type": "code",
   "execution_count": 15,
   "id": "768e7f11",
   "metadata": {},
   "outputs": [
    {
     "data": {
      "text/plain": [
       "TITLE             70\n",
       "DESCRIPTION        0\n",
       "BULLET_POINTS      0\n",
       "BRAND              0\n",
       "BROWSE_NODE_ID     0\n",
       "dtype: int64"
      ]
     },
     "execution_count": 15,
     "metadata": {},
     "output_type": "execute_result"
    }
   ],
   "source": [
    "df.isnull().sum()"
   ]
  },
  {
   "cell_type": "code",
   "execution_count": 16,
   "id": "33c5c5a6",
   "metadata": {},
   "outputs": [],
   "source": [
    "df.dropna(inplace = True)"
   ]
  },
  {
   "cell_type": "code",
   "execution_count": 17,
   "id": "15e9d313",
   "metadata": {},
   "outputs": [
    {
     "data": {
      "text/plain": [
       "TITLE             0\n",
       "DESCRIPTION       0\n",
       "BULLET_POINTS     0\n",
       "BRAND             0\n",
       "BROWSE_NODE_ID    0\n",
       "dtype: int64"
      ]
     },
     "execution_count": 17,
     "metadata": {},
     "output_type": "execute_result"
    }
   ],
   "source": [
    "df.isnull().sum()"
   ]
  },
  {
   "cell_type": "code",
   "execution_count": 18,
   "id": "5cc56b45",
   "metadata": {},
   "outputs": [
    {
     "data": {
      "text/plain": [
       "(2762286, 5)"
      ]
     },
     "execution_count": 18,
     "metadata": {},
     "output_type": "execute_result"
    }
   ],
   "source": [
    "df.shape"
   ]
  },
  {
   "cell_type": "code",
   "execution_count": 19,
   "id": "546e8e70",
   "metadata": {},
   "outputs": [],
   "source": [
    "a = df[\"TITLE\"].str.split(\",\",n=1, expand=True)\n",
    "df[\"TITLE\"]=a[0]"
   ]
  },
  {
   "cell_type": "code",
   "execution_count": 20,
   "id": "161f6765",
   "metadata": {},
   "outputs": [],
   "source": [
    "b = df[\"TITLE\"].str.split(\"(\",n=1, expand=True)\n",
    "df[\"TITLE\"]=b[0]"
   ]
  },
  {
   "cell_type": "code",
   "execution_count": 21,
   "id": "a3bca8cd",
   "metadata": {},
   "outputs": [],
   "source": [
    "c = df[\"TITLE\"].str.split(\"-\",n=1, expand=True)\n",
    "df[\"TITLE\"]=c[0]"
   ]
  },
  {
   "cell_type": "code",
   "execution_count": 22,
   "id": "c4fd3826",
   "metadata": {},
   "outputs": [
    {
     "data": {
      "text/html": [
       "<div>\n",
       "<style scoped>\n",
       "    .dataframe tbody tr th:only-of-type {\n",
       "        vertical-align: middle;\n",
       "    }\n",
       "\n",
       "    .dataframe tbody tr th {\n",
       "        vertical-align: top;\n",
       "    }\n",
       "\n",
       "    .dataframe thead th {\n",
       "        text-align: right;\n",
       "    }\n",
       "</style>\n",
       "<table border=\"1\" class=\"dataframe\">\n",
       "  <thead>\n",
       "    <tr style=\"text-align: right;\">\n",
       "      <th></th>\n",
       "      <th>TITLE</th>\n",
       "      <th>DESCRIPTION</th>\n",
       "      <th>BULLET_POINTS</th>\n",
       "      <th>BRAND</th>\n",
       "      <th>BROWSE_NODE_ID</th>\n",
       "    </tr>\n",
       "  </thead>\n",
       "  <tbody>\n",
       "    <tr>\n",
       "      <th>0</th>\n",
       "      <td>Pete The Cat Bedtime Blues Doll</td>\n",
       "      <td>Pete the Cat is the coolest, most popular cat ...</td>\n",
       "      <td>[Pete the Cat Bedtime Blues plush doll,Based o...</td>\n",
       "      <td>MerryMakers</td>\n",
       "      <td>0</td>\n",
       "    </tr>\n",
       "    <tr>\n",
       "      <th>1</th>\n",
       "      <td>The New Yorker NYHM014 Refrigerator Magnet</td>\n",
       "      <td>The New Yorker Handsome Cello Wrapped Hard Mag...</td>\n",
       "      <td>[Cat In A Tea Cup by New Yorker cover artist G...</td>\n",
       "      <td>The New Yorker</td>\n",
       "      <td>1</td>\n",
       "    </tr>\n",
       "    <tr>\n",
       "      <th>2</th>\n",
       "      <td>The Ultimate Self</td>\n",
       "      <td>no description</td>\n",
       "      <td>Skyhorse Publishing</td>\n",
       "      <td>imusti</td>\n",
       "      <td>2</td>\n",
       "    </tr>\n",
       "    <tr>\n",
       "      <th>3</th>\n",
       "      <td>Amway Nutrilite Kids Chewable Iron Tablets</td>\n",
       "      <td>no description</td>\n",
       "      <td>[Nutrilite Kids,Chewable Iron Tablets,Quantity...</td>\n",
       "      <td>Amway</td>\n",
       "      <td>3</td>\n",
       "    </tr>\n",
       "    <tr>\n",
       "      <th>4</th>\n",
       "      <td>Teacher Planner Company A4 6 Lesson Academic T...</td>\n",
       "      <td>no description</td>\n",
       "      <td>no bullet point</td>\n",
       "      <td>unknown</td>\n",
       "      <td>4</td>\n",
       "    </tr>\n",
       "  </tbody>\n",
       "</table>\n",
       "</div>"
      ],
      "text/plain": [
       "                                               TITLE  \\\n",
       "0                    Pete The Cat Bedtime Blues Doll   \n",
       "1         The New Yorker NYHM014 Refrigerator Magnet   \n",
       "2                                  The Ultimate Self   \n",
       "3        Amway Nutrilite Kids Chewable Iron Tablets    \n",
       "4  Teacher Planner Company A4 6 Lesson Academic T...   \n",
       "\n",
       "                                         DESCRIPTION  \\\n",
       "0  Pete the Cat is the coolest, most popular cat ...   \n",
       "1  The New Yorker Handsome Cello Wrapped Hard Mag...   \n",
       "2                                     no description   \n",
       "3                                     no description   \n",
       "4                                     no description   \n",
       "\n",
       "                                       BULLET_POINTS           BRAND  \\\n",
       "0  [Pete the Cat Bedtime Blues plush doll,Based o...     MerryMakers   \n",
       "1  [Cat In A Tea Cup by New Yorker cover artist G...  The New Yorker   \n",
       "2                                Skyhorse Publishing          imusti   \n",
       "3  [Nutrilite Kids,Chewable Iron Tablets,Quantity...           Amway   \n",
       "4                                    no bullet point         unknown   \n",
       "\n",
       "   BROWSE_NODE_ID  \n",
       "0               0  \n",
       "1               1  \n",
       "2               2  \n",
       "3               3  \n",
       "4               4  "
      ]
     },
     "execution_count": 22,
     "metadata": {},
     "output_type": "execute_result"
    }
   ],
   "source": [
    "df.head()"
   ]
  },
  {
   "cell_type": "code",
   "execution_count": 23,
   "id": "f58071f6",
   "metadata": {},
   "outputs": [
    {
     "data": {
      "text/html": [
       "<div>\n",
       "<style scoped>\n",
       "    .dataframe tbody tr th:only-of-type {\n",
       "        vertical-align: middle;\n",
       "    }\n",
       "\n",
       "    .dataframe tbody tr th {\n",
       "        vertical-align: top;\n",
       "    }\n",
       "\n",
       "    .dataframe thead th {\n",
       "        text-align: right;\n",
       "    }\n",
       "</style>\n",
       "<table border=\"1\" class=\"dataframe\">\n",
       "  <thead>\n",
       "    <tr style=\"text-align: right;\">\n",
       "      <th></th>\n",
       "      <th>TITLE</th>\n",
       "      <th>DESCRIPTION</th>\n",
       "      <th>BULLET_POINTS</th>\n",
       "      <th>BRAND</th>\n",
       "      <th>BROWSE_NODE_ID</th>\n",
       "    </tr>\n",
       "  </thead>\n",
       "  <tbody>\n",
       "    <tr>\n",
       "      <th>2762351</th>\n",
       "      <td>GVND 6 Pack Abs Exercise Machine with Multi Pu...</td>\n",
       "      <td>&lt;p&gt;&lt;strong&gt;GVND Six pack Abs is the revolution...</td>\n",
       "      <td>[Multiple Exercise Modes: This Abdominal Train...</td>\n",
       "      <td>Gvnd</td>\n",
       "      <td>1835</td>\n",
       "    </tr>\n",
       "    <tr>\n",
       "      <th>2762352</th>\n",
       "      <td>Premium Aviator Sunglasses</td>\n",
       "      <td>These premium Aviator Sunglasses with 5 color ...</td>\n",
       "      <td>[Frame size: Lens height - 56mm, Lens width - ...</td>\n",
       "      <td>Generic</td>\n",
       "      <td>1040</td>\n",
       "    </tr>\n",
       "    <tr>\n",
       "      <th>2762353</th>\n",
       "      <td>Social Distance Stickers</td>\n",
       "      <td>set of 5 prints social distancing sticker self...</td>\n",
       "      <td>[covid19 safety sticker - set of 5 to maintain...</td>\n",
       "      <td>Generic</td>\n",
       "      <td>15199</td>\n",
       "    </tr>\n",
       "    <tr>\n",
       "      <th>2762354</th>\n",
       "      <td>Type</td>\n",
       "      <td>Still want to use your favorite earphones/head...</td>\n",
       "      <td>[Indian Connectors: Made for Indian sockets, t...</td>\n",
       "      <td>SHOPBELL</td>\n",
       "      <td>14790</td>\n",
       "    </tr>\n",
       "    <tr>\n",
       "      <th>2762355</th>\n",
       "      <td>KNG Orange Polo Tshirt</td>\n",
       "      <td>Performance inspired by comfort. The polo shir...</td>\n",
       "      <td>no bullet point</td>\n",
       "      <td>KNG</td>\n",
       "      <td>1213</td>\n",
       "    </tr>\n",
       "  </tbody>\n",
       "</table>\n",
       "</div>"
      ],
      "text/plain": [
       "                                                     TITLE  \\\n",
       "2762351  GVND 6 Pack Abs Exercise Machine with Multi Pu...   \n",
       "2762352                        Premium Aviator Sunglasses    \n",
       "2762353                          Social Distance Stickers    \n",
       "2762354                                               Type   \n",
       "2762355                            KNG Orange Polo Tshirt    \n",
       "\n",
       "                                               DESCRIPTION  \\\n",
       "2762351  <p><strong>GVND Six pack Abs is the revolution...   \n",
       "2762352  These premium Aviator Sunglasses with 5 color ...   \n",
       "2762353  set of 5 prints social distancing sticker self...   \n",
       "2762354  Still want to use your favorite earphones/head...   \n",
       "2762355  Performance inspired by comfort. The polo shir...   \n",
       "\n",
       "                                             BULLET_POINTS     BRAND  \\\n",
       "2762351  [Multiple Exercise Modes: This Abdominal Train...      Gvnd   \n",
       "2762352  [Frame size: Lens height - 56mm, Lens width - ...   Generic   \n",
       "2762353  [covid19 safety sticker - set of 5 to maintain...   Generic   \n",
       "2762354  [Indian Connectors: Made for Indian sockets, t...  SHOPBELL   \n",
       "2762355                                    no bullet point       KNG   \n",
       "\n",
       "         BROWSE_NODE_ID  \n",
       "2762351            1835  \n",
       "2762352            1040  \n",
       "2762353           15199  \n",
       "2762354           14790  \n",
       "2762355            1213  "
      ]
     },
     "execution_count": 23,
     "metadata": {},
     "output_type": "execute_result"
    }
   ],
   "source": [
    "df.tail()"
   ]
  },
  {
   "cell_type": "code",
   "execution_count": 24,
   "id": "d975849c",
   "metadata": {},
   "outputs": [],
   "source": [
    "d = df[\"DESCRIPTION\"].str.split(\".\",n=1, expand=True)\n",
    "df[\"DESCRIPTION\"]=d[0]"
   ]
  },
  {
   "cell_type": "code",
   "execution_count": 25,
   "id": "ee4a72a5",
   "metadata": {},
   "outputs": [],
   "source": [
    "e = df[\"DESCRIPTION\"].str.split(\"/\",n=1, expand=True)\n",
    "df[\"DESCRIPTION\"]=e[0]"
   ]
  },
  {
   "cell_type": "code",
   "execution_count": 26,
   "id": "fc78b8ad",
   "metadata": {},
   "outputs": [],
   "source": [
    "f = df[\"DESCRIPTION\"].str.split(\":\",n=1, expand=True)\n",
    "df[\"DESCRIPTION\"]=f[0]"
   ]
  },
  {
   "cell_type": "code",
   "execution_count": 27,
   "id": "96861900",
   "metadata": {},
   "outputs": [],
   "source": [
    "def split_it(DESCRIPTION):\n",
    "    return re.sub(\"^<.*>\",\"\",DESCRIPTION)\n",
    "\n",
    "df['DESCRIPTION'] = df['DESCRIPTION'].apply(split_it)"
   ]
  },
  {
   "cell_type": "code",
   "execution_count": 28,
   "id": "86562837",
   "metadata": {},
   "outputs": [
    {
     "data": {
      "text/html": [
       "<div>\n",
       "<style scoped>\n",
       "    .dataframe tbody tr th:only-of-type {\n",
       "        vertical-align: middle;\n",
       "    }\n",
       "\n",
       "    .dataframe tbody tr th {\n",
       "        vertical-align: top;\n",
       "    }\n",
       "\n",
       "    .dataframe thead th {\n",
       "        text-align: right;\n",
       "    }\n",
       "</style>\n",
       "<table border=\"1\" class=\"dataframe\">\n",
       "  <thead>\n",
       "    <tr style=\"text-align: right;\">\n",
       "      <th></th>\n",
       "      <th>TITLE</th>\n",
       "      <th>DESCRIPTION</th>\n",
       "      <th>BULLET_POINTS</th>\n",
       "      <th>BRAND</th>\n",
       "      <th>BROWSE_NODE_ID</th>\n",
       "    </tr>\n",
       "  </thead>\n",
       "  <tbody>\n",
       "    <tr>\n",
       "      <th>0</th>\n",
       "      <td>Pete The Cat Bedtime Blues Doll</td>\n",
       "      <td>Pete the Cat is the coolest, most popular cat ...</td>\n",
       "      <td>[Pete the Cat Bedtime Blues plush doll,Based o...</td>\n",
       "      <td>MerryMakers</td>\n",
       "      <td>0</td>\n",
       "    </tr>\n",
       "    <tr>\n",
       "      <th>1</th>\n",
       "      <td>The New Yorker NYHM014 Refrigerator Magnet</td>\n",
       "      <td>The New Yorker Handsome Cello Wrapped Hard Mag...</td>\n",
       "      <td>[Cat In A Tea Cup by New Yorker cover artist G...</td>\n",
       "      <td>The New Yorker</td>\n",
       "      <td>1</td>\n",
       "    </tr>\n",
       "    <tr>\n",
       "      <th>2</th>\n",
       "      <td>The Ultimate Self</td>\n",
       "      <td>no description</td>\n",
       "      <td>Skyhorse Publishing</td>\n",
       "      <td>imusti</td>\n",
       "      <td>2</td>\n",
       "    </tr>\n",
       "    <tr>\n",
       "      <th>3</th>\n",
       "      <td>Amway Nutrilite Kids Chewable Iron Tablets</td>\n",
       "      <td>no description</td>\n",
       "      <td>[Nutrilite Kids,Chewable Iron Tablets,Quantity...</td>\n",
       "      <td>Amway</td>\n",
       "      <td>3</td>\n",
       "    </tr>\n",
       "    <tr>\n",
       "      <th>4</th>\n",
       "      <td>Teacher Planner Company A4 6 Lesson Academic T...</td>\n",
       "      <td>no description</td>\n",
       "      <td>no bullet point</td>\n",
       "      <td>unknown</td>\n",
       "      <td>4</td>\n",
       "    </tr>\n",
       "  </tbody>\n",
       "</table>\n",
       "</div>"
      ],
      "text/plain": [
       "                                               TITLE  \\\n",
       "0                    Pete The Cat Bedtime Blues Doll   \n",
       "1         The New Yorker NYHM014 Refrigerator Magnet   \n",
       "2                                  The Ultimate Self   \n",
       "3        Amway Nutrilite Kids Chewable Iron Tablets    \n",
       "4  Teacher Planner Company A4 6 Lesson Academic T...   \n",
       "\n",
       "                                         DESCRIPTION  \\\n",
       "0  Pete the Cat is the coolest, most popular cat ...   \n",
       "1  The New Yorker Handsome Cello Wrapped Hard Mag...   \n",
       "2                                     no description   \n",
       "3                                     no description   \n",
       "4                                     no description   \n",
       "\n",
       "                                       BULLET_POINTS           BRAND  \\\n",
       "0  [Pete the Cat Bedtime Blues plush doll,Based o...     MerryMakers   \n",
       "1  [Cat In A Tea Cup by New Yorker cover artist G...  The New Yorker   \n",
       "2                                Skyhorse Publishing          imusti   \n",
       "3  [Nutrilite Kids,Chewable Iron Tablets,Quantity...           Amway   \n",
       "4                                    no bullet point         unknown   \n",
       "\n",
       "   BROWSE_NODE_ID  \n",
       "0               0  \n",
       "1               1  \n",
       "2               2  \n",
       "3               3  \n",
       "4               4  "
      ]
     },
     "execution_count": 28,
     "metadata": {},
     "output_type": "execute_result"
    }
   ],
   "source": [
    "df.head()"
   ]
  },
  {
   "cell_type": "code",
   "execution_count": 29,
   "id": "c246aa2c",
   "metadata": {},
   "outputs": [
    {
     "data": {
      "text/html": [
       "<div>\n",
       "<style scoped>\n",
       "    .dataframe tbody tr th:only-of-type {\n",
       "        vertical-align: middle;\n",
       "    }\n",
       "\n",
       "    .dataframe tbody tr th {\n",
       "        vertical-align: top;\n",
       "    }\n",
       "\n",
       "    .dataframe thead th {\n",
       "        text-align: right;\n",
       "    }\n",
       "</style>\n",
       "<table border=\"1\" class=\"dataframe\">\n",
       "  <thead>\n",
       "    <tr style=\"text-align: right;\">\n",
       "      <th></th>\n",
       "      <th>TITLE</th>\n",
       "      <th>DESCRIPTION</th>\n",
       "      <th>BULLET_POINTS</th>\n",
       "      <th>BRAND</th>\n",
       "      <th>BROWSE_NODE_ID</th>\n",
       "    </tr>\n",
       "  </thead>\n",
       "  <tbody>\n",
       "    <tr>\n",
       "      <th>2762351</th>\n",
       "      <td>GVND 6 Pack Abs Exercise Machine with Multi Pu...</td>\n",
       "      <td>GVND Six pack Abs is the revolutionary new fit...</td>\n",
       "      <td>[Multiple Exercise Modes: This Abdominal Train...</td>\n",
       "      <td>Gvnd</td>\n",
       "      <td>1835</td>\n",
       "    </tr>\n",
       "    <tr>\n",
       "      <th>2762352</th>\n",
       "      <td>Premium Aviator Sunglasses</td>\n",
       "      <td>These premium Aviator Sunglasses with 5 color ...</td>\n",
       "      <td>[Frame size: Lens height - 56mm, Lens width - ...</td>\n",
       "      <td>Generic</td>\n",
       "      <td>1040</td>\n",
       "    </tr>\n",
       "    <tr>\n",
       "      <th>2762353</th>\n",
       "      <td>Social Distance Stickers</td>\n",
       "      <td>set of 5 prints social distancing sticker self...</td>\n",
       "      <td>[covid19 safety sticker - set of 5 to maintain...</td>\n",
       "      <td>Generic</td>\n",
       "      <td>15199</td>\n",
       "    </tr>\n",
       "    <tr>\n",
       "      <th>2762354</th>\n",
       "      <td>Type</td>\n",
       "      <td>Still want to use your favorite earphones</td>\n",
       "      <td>[Indian Connectors: Made for Indian sockets, t...</td>\n",
       "      <td>SHOPBELL</td>\n",
       "      <td>14790</td>\n",
       "    </tr>\n",
       "    <tr>\n",
       "      <th>2762355</th>\n",
       "      <td>KNG Orange Polo Tshirt</td>\n",
       "      <td>Performance inspired by comfort</td>\n",
       "      <td>no bullet point</td>\n",
       "      <td>KNG</td>\n",
       "      <td>1213</td>\n",
       "    </tr>\n",
       "  </tbody>\n",
       "</table>\n",
       "</div>"
      ],
      "text/plain": [
       "                                                     TITLE  \\\n",
       "2762351  GVND 6 Pack Abs Exercise Machine with Multi Pu...   \n",
       "2762352                        Premium Aviator Sunglasses    \n",
       "2762353                          Social Distance Stickers    \n",
       "2762354                                               Type   \n",
       "2762355                            KNG Orange Polo Tshirt    \n",
       "\n",
       "                                               DESCRIPTION  \\\n",
       "2762351  GVND Six pack Abs is the revolutionary new fit...   \n",
       "2762352  These premium Aviator Sunglasses with 5 color ...   \n",
       "2762353  set of 5 prints social distancing sticker self...   \n",
       "2762354          Still want to use your favorite earphones   \n",
       "2762355                    Performance inspired by comfort   \n",
       "\n",
       "                                             BULLET_POINTS     BRAND  \\\n",
       "2762351  [Multiple Exercise Modes: This Abdominal Train...      Gvnd   \n",
       "2762352  [Frame size: Lens height - 56mm, Lens width - ...   Generic   \n",
       "2762353  [covid19 safety sticker - set of 5 to maintain...   Generic   \n",
       "2762354  [Indian Connectors: Made for Indian sockets, t...  SHOPBELL   \n",
       "2762355                                    no bullet point       KNG   \n",
       "\n",
       "         BROWSE_NODE_ID  \n",
       "2762351            1835  \n",
       "2762352            1040  \n",
       "2762353           15199  \n",
       "2762354           14790  \n",
       "2762355            1213  "
      ]
     },
     "execution_count": 29,
     "metadata": {},
     "output_type": "execute_result"
    }
   ],
   "source": [
    "df.tail()"
   ]
  },
  {
   "cell_type": "code",
   "execution_count": 30,
   "id": "12d3db6e",
   "metadata": {},
   "outputs": [
    {
     "data": {
      "text/plain": [
       "'[Pete the Cat Bedtime Blues plush doll,Based on the popular Pete the Cat books by James Dean,Super cuddly and ready for naptime and bedtime,Safe for all ages, perfect for ages 2 and up,Measures 14. 5 inches]'"
      ]
     },
     "execution_count": 30,
     "metadata": {},
     "output_type": "execute_result"
    }
   ],
   "source": [
    "df['BULLET_POINTS'][0]"
   ]
  },
  {
   "cell_type": "code",
   "execution_count": 31,
   "id": "252ae1c8",
   "metadata": {},
   "outputs": [],
   "source": [
    "g = df[\"BULLET_POINTS\"].str.split(\".\",n=1, expand=True)\n",
    "df[\"BULLET_POINTS\"]=g[0]"
   ]
  },
  {
   "cell_type": "code",
   "execution_count": 32,
   "id": "05ee0071",
   "metadata": {},
   "outputs": [],
   "source": [
    "h = df[\"BULLET_POINTS\"].str.split(\"/\",n=1, expand=True)\n",
    "df[\"BULLET_POINTS\"]=h[0]"
   ]
  },
  {
   "cell_type": "code",
   "execution_count": 33,
   "id": "16fea1f2",
   "metadata": {},
   "outputs": [],
   "source": [
    "i = df[\"BULLET_POINTS\"].str.split(\":\",n=1, expand=True)\n",
    "df[\"BULLET_POINTS\"]=i[0]"
   ]
  },
  {
   "cell_type": "code",
   "execution_count": 36,
   "id": "22f569f5",
   "metadata": {},
   "outputs": [],
   "source": [
    "j = df[\"BULLET_POINTS\"].str.split(\",\",n=1, expand=True)\n",
    "df[\"BULLET_POINTS\"]=j[0]"
   ]
  },
  {
   "cell_type": "code",
   "execution_count": 41,
   "id": "7eb066e0",
   "metadata": {},
   "outputs": [],
   "source": [
    "k= df[\"BULLET_POINTS\"].str.split(\"-\",n=1, expand=True)\n",
    "df[\"BULLET_POINTS\"]=k[0]"
   ]
  },
  {
   "cell_type": "code",
   "execution_count": 42,
   "id": "39afaebb",
   "metadata": {},
   "outputs": [
    {
     "data": {
      "text/plain": [
       "'Pete the Cat Bedtime Blues plush doll'"
      ]
     },
     "execution_count": 42,
     "metadata": {},
     "output_type": "execute_result"
    }
   ],
   "source": [
    "df['BULLET_POINTS'][0]"
   ]
  },
  {
   "cell_type": "code",
   "execution_count": 43,
   "id": "b1bab764",
   "metadata": {},
   "outputs": [],
   "source": [
    "def split_it1(BULLET_POINTS):\n",
    "    return re.sub(\"\\[\",\"\",BULLET_POINTS)\n",
    "\n",
    "df['BULLET_POINTS'] = df['BULLET_POINTS'].apply(split_it1)"
   ]
  },
  {
   "cell_type": "code",
   "execution_count": 44,
   "id": "b70bc56a",
   "metadata": {},
   "outputs": [
    {
     "data": {
      "text/html": [
       "<div>\n",
       "<style scoped>\n",
       "    .dataframe tbody tr th:only-of-type {\n",
       "        vertical-align: middle;\n",
       "    }\n",
       "\n",
       "    .dataframe tbody tr th {\n",
       "        vertical-align: top;\n",
       "    }\n",
       "\n",
       "    .dataframe thead th {\n",
       "        text-align: right;\n",
       "    }\n",
       "</style>\n",
       "<table border=\"1\" class=\"dataframe\">\n",
       "  <thead>\n",
       "    <tr style=\"text-align: right;\">\n",
       "      <th></th>\n",
       "      <th>TITLE</th>\n",
       "      <th>DESCRIPTION</th>\n",
       "      <th>BULLET_POINTS</th>\n",
       "      <th>BRAND</th>\n",
       "      <th>BROWSE_NODE_ID</th>\n",
       "    </tr>\n",
       "  </thead>\n",
       "  <tbody>\n",
       "    <tr>\n",
       "      <th>0</th>\n",
       "      <td>Pete The Cat Bedtime Blues Doll</td>\n",
       "      <td>Pete the Cat is the coolest, most popular cat ...</td>\n",
       "      <td>Pete the Cat Bedtime Blues plush doll</td>\n",
       "      <td>MerryMakers</td>\n",
       "      <td>0</td>\n",
       "    </tr>\n",
       "    <tr>\n",
       "      <th>1</th>\n",
       "      <td>The New Yorker NYHM014 Refrigerator Magnet</td>\n",
       "      <td>The New Yorker Handsome Cello Wrapped Hard Mag...</td>\n",
       "      <td>Cat In A Tea Cup by New Yorker cover artist Gu...</td>\n",
       "      <td>The New Yorker</td>\n",
       "      <td>1</td>\n",
       "    </tr>\n",
       "    <tr>\n",
       "      <th>2</th>\n",
       "      <td>The Ultimate Self</td>\n",
       "      <td>no description</td>\n",
       "      <td>Skyhorse Publishing</td>\n",
       "      <td>imusti</td>\n",
       "      <td>2</td>\n",
       "    </tr>\n",
       "    <tr>\n",
       "      <th>3</th>\n",
       "      <td>Amway Nutrilite Kids Chewable Iron Tablets</td>\n",
       "      <td>no description</td>\n",
       "      <td>Nutrilite Kids</td>\n",
       "      <td>Amway</td>\n",
       "      <td>3</td>\n",
       "    </tr>\n",
       "    <tr>\n",
       "      <th>4</th>\n",
       "      <td>Teacher Planner Company A4 6 Lesson Academic T...</td>\n",
       "      <td>no description</td>\n",
       "      <td>no bullet point</td>\n",
       "      <td>unknown</td>\n",
       "      <td>4</td>\n",
       "    </tr>\n",
       "  </tbody>\n",
       "</table>\n",
       "</div>"
      ],
      "text/plain": [
       "                                               TITLE  \\\n",
       "0                    Pete The Cat Bedtime Blues Doll   \n",
       "1         The New Yorker NYHM014 Refrigerator Magnet   \n",
       "2                                  The Ultimate Self   \n",
       "3        Amway Nutrilite Kids Chewable Iron Tablets    \n",
       "4  Teacher Planner Company A4 6 Lesson Academic T...   \n",
       "\n",
       "                                         DESCRIPTION  \\\n",
       "0  Pete the Cat is the coolest, most popular cat ...   \n",
       "1  The New Yorker Handsome Cello Wrapped Hard Mag...   \n",
       "2                                     no description   \n",
       "3                                     no description   \n",
       "4                                     no description   \n",
       "\n",
       "                                       BULLET_POINTS           BRAND  \\\n",
       "0              Pete the Cat Bedtime Blues plush doll     MerryMakers   \n",
       "1  Cat In A Tea Cup by New Yorker cover artist Gu...  The New Yorker   \n",
       "2                                Skyhorse Publishing          imusti   \n",
       "3                                     Nutrilite Kids           Amway   \n",
       "4                                    no bullet point         unknown   \n",
       "\n",
       "   BROWSE_NODE_ID  \n",
       "0               0  \n",
       "1               1  \n",
       "2               2  \n",
       "3               3  \n",
       "4               4  "
      ]
     },
     "execution_count": 44,
     "metadata": {},
     "output_type": "execute_result"
    }
   ],
   "source": [
    "df.head()"
   ]
  },
  {
   "cell_type": "code",
   "execution_count": 45,
   "id": "e98d5ba5",
   "metadata": {},
   "outputs": [
    {
     "data": {
      "text/html": [
       "<div>\n",
       "<style scoped>\n",
       "    .dataframe tbody tr th:only-of-type {\n",
       "        vertical-align: middle;\n",
       "    }\n",
       "\n",
       "    .dataframe tbody tr th {\n",
       "        vertical-align: top;\n",
       "    }\n",
       "\n",
       "    .dataframe thead th {\n",
       "        text-align: right;\n",
       "    }\n",
       "</style>\n",
       "<table border=\"1\" class=\"dataframe\">\n",
       "  <thead>\n",
       "    <tr style=\"text-align: right;\">\n",
       "      <th></th>\n",
       "      <th>TITLE</th>\n",
       "      <th>DESCRIPTION</th>\n",
       "      <th>BULLET_POINTS</th>\n",
       "      <th>BRAND</th>\n",
       "      <th>BROWSE_NODE_ID</th>\n",
       "    </tr>\n",
       "  </thead>\n",
       "  <tbody>\n",
       "    <tr>\n",
       "      <th>2762351</th>\n",
       "      <td>GVND 6 Pack Abs Exercise Machine with Multi Pu...</td>\n",
       "      <td>GVND Six pack Abs is the revolutionary new fit...</td>\n",
       "      <td>Multiple Exercise Modes</td>\n",
       "      <td>Gvnd</td>\n",
       "      <td>1835</td>\n",
       "    </tr>\n",
       "    <tr>\n",
       "      <th>2762352</th>\n",
       "      <td>Premium Aviator Sunglasses</td>\n",
       "      <td>These premium Aviator Sunglasses with 5 color ...</td>\n",
       "      <td>Frame size</td>\n",
       "      <td>Generic</td>\n",
       "      <td>1040</td>\n",
       "    </tr>\n",
       "    <tr>\n",
       "      <th>2762353</th>\n",
       "      <td>Social Distance Stickers</td>\n",
       "      <td>set of 5 prints social distancing sticker self...</td>\n",
       "      <td>covid19 safety sticker</td>\n",
       "      <td>Generic</td>\n",
       "      <td>15199</td>\n",
       "    </tr>\n",
       "    <tr>\n",
       "      <th>2762354</th>\n",
       "      <td>Type</td>\n",
       "      <td>Still want to use your favorite earphones</td>\n",
       "      <td>Indian Connectors</td>\n",
       "      <td>SHOPBELL</td>\n",
       "      <td>14790</td>\n",
       "    </tr>\n",
       "    <tr>\n",
       "      <th>2762355</th>\n",
       "      <td>KNG Orange Polo Tshirt</td>\n",
       "      <td>Performance inspired by comfort</td>\n",
       "      <td>no bullet point</td>\n",
       "      <td>KNG</td>\n",
       "      <td>1213</td>\n",
       "    </tr>\n",
       "  </tbody>\n",
       "</table>\n",
       "</div>"
      ],
      "text/plain": [
       "                                                     TITLE  \\\n",
       "2762351  GVND 6 Pack Abs Exercise Machine with Multi Pu...   \n",
       "2762352                        Premium Aviator Sunglasses    \n",
       "2762353                          Social Distance Stickers    \n",
       "2762354                                               Type   \n",
       "2762355                            KNG Orange Polo Tshirt    \n",
       "\n",
       "                                               DESCRIPTION  \\\n",
       "2762351  GVND Six pack Abs is the revolutionary new fit...   \n",
       "2762352  These premium Aviator Sunglasses with 5 color ...   \n",
       "2762353  set of 5 prints social distancing sticker self...   \n",
       "2762354          Still want to use your favorite earphones   \n",
       "2762355                    Performance inspired by comfort   \n",
       "\n",
       "                   BULLET_POINTS     BRAND  BROWSE_NODE_ID  \n",
       "2762351  Multiple Exercise Modes      Gvnd            1835  \n",
       "2762352               Frame size   Generic            1040  \n",
       "2762353  covid19 safety sticker    Generic           15199  \n",
       "2762354        Indian Connectors  SHOPBELL           14790  \n",
       "2762355          no bullet point       KNG            1213  "
      ]
     },
     "execution_count": 45,
     "metadata": {},
     "output_type": "execute_result"
    }
   ],
   "source": [
    "df.tail()"
   ]
  },
  {
   "cell_type": "code",
   "execution_count": null,
   "id": "3ac5578a",
   "metadata": {},
   "outputs": [],
   "source": [
    "# ------------------------------------------------------------------------------------------------------------ #"
   ]
  }
 ],
 "metadata": {
  "kernelspec": {
   "display_name": "Python 3",
   "language": "python",
   "name": "python3"
  },
  "language_info": {
   "codemirror_mode": {
    "name": "ipython",
    "version": 3
   },
   "file_extension": ".py",
   "mimetype": "text/x-python",
   "name": "python",
   "nbconvert_exporter": "python",
   "pygments_lexer": "ipython3",
   "version": "3.8.8"
  }
 },
 "nbformat": 4,
 "nbformat_minor": 5
}
